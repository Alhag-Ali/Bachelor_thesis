{
  "nbformat": 4,
  "nbformat_minor": 0,
  "metadata": {
    "colab": {
      "provenance": []
    },
    "kernelspec": {
      "name": "python3",
      "display_name": "Python 3"
    },
    "language_info": {
      "name": "python"
    }
  },
  "cells": [
    {
      "cell_type": "markdown",
      "source": [
        "## This code is for changing the audio format."
      ],
      "metadata": {
        "id": "7dbjLvi7WduM"
      }
    },
    {
      "cell_type": "code",
      "execution_count": null,
      "metadata": {
        "id": "1qplopjfWWt_"
      },
      "outputs": [],
      "source": [
        "%%capture\n",
        "!pip install pydub"
      ]
    },
    {
      "cell_type": "code",
      "source": [
        "import glob\n",
        "from os import path\n",
        "from pydub import AudioSegment\n",
        "\n",
        "# pattern for python files\n",
        "pattern = \"/content/drive/MyDrive/data/train/*.mp3\"\n",
        "\n",
        "# list of file paths that match the pattern\n",
        "file_paths = glob.glob(pattern, recursive = True)\n",
        "\n",
        "# print the file paths\n",
        "for file_path in file_paths:\n",
        "    input = file_path[33:-4]\n",
        "    output = \"/content/drive/MyDrive/data/Wav_Data/train/\"+ input + \".wav\"\n",
        "\n",
        "    #conversion\n",
        "    audio = AudioSegment.from_mp3(file_path)\n",
        "    audio.export(output, format=\"wav\")"
      ],
      "metadata": {
        "id": "mnQfGH_6WXfq"
      },
      "execution_count": null,
      "outputs": []
    }
  ]
}