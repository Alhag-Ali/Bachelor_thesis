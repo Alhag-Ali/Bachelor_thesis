{
  "nbformat": 4,
  "nbformat_minor": 0,
  "metadata": {
    "colab": {
      "provenance": []
    },
    "kernelspec": {
      "name": "python3",
      "display_name": "Python 3"
    },
    "language_info": {
      "name": "python"
    }
  },
  "cells": [
    {
      "cell_type": "markdown",
      "source": [
        "This code is to show the effect of the plugins on the frequency and sound intensity. It is related to section 3.3.\n",
        "It is based on \"working with audio in python. (2022, Februar 24). Kaggle.com; Kaggle.  https://www.kaggle.com/code/robikscube/working-with-audio-in-python\""
      ],
      "metadata": {
        "id": "B8bm7Pn_VOCD"
      }
    },
    {
      "cell_type": "code",
      "execution_count": null,
      "metadata": {
        "id": "VcERNUjpTJhJ"
      },
      "outputs": [],
      "source": [
        "import pandas as pd\n",
        "import numpy as np\n",
        "import matplotlib.pylab as plt\n",
        "import seaborn as sns\n",
        "\n",
        "from glob import glob\n",
        "\n",
        "import librose\n",
        "import librosa.display\n",
        "import IPython.display as ipd\n",
        "\n",
        "from itertools import cycle\n",
        "\n",
        "sns.set_theme(style=\"white\", palette=None)\n",
        "color_pal = plt.rcParams[\"axes.prop_cycle\"].by_key()[\"color\"]\n",
        "color_cycle = cycle(plt.rcParams[\"axes.prop_cycle\"].by_key()[\"color\"])"
      ]
    },
    {
      "cell_type": "code",
      "source": [
        "audio_files = glob(\"common_voice_de_32155565.mp3\")"
      ],
      "metadata": {
        "id": "W9h7VPjFUOnA"
      },
      "execution_count": null,
      "outputs": []
    },
    {
      "cell_type": "code",
      "source": [
        "# Play audio file\n",
        "ipd.Audio(audio_files[0])"
      ],
      "metadata": {
        "id": "lUiVCr5MUYZd"
      },
      "execution_count": null,
      "outputs": []
    },
    {
      "cell_type": "code",
      "source": [
        "y, sr = librosa.load(audio_files[0])\n",
        "print(f\"y: {y[:10]}\")\n",
        "print(f\"shape y: {y.shape}\")\n",
        "print(f\"sr: {sr}\")"
      ],
      "metadata": {
        "id": "JJebNoLNUYu5"
      },
      "execution_count": null,
      "outputs": []
    },
    {
      "cell_type": "code",
      "source": [
        "pd.Series(y).plot(figsize=(10, 5),\n",
        "                  lw=1,\n",
        "                  title=\"Raw Audio Example\",\n",
        "                  color=color_pal[0])\n",
        "plt.show()"
      ],
      "metadata": {
        "id": "cqHXm9HSUYxB"
      },
      "execution_count": null,
      "outputs": []
    }
  ]
}